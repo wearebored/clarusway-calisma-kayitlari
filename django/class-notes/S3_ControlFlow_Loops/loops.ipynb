{
 "cells": [
  {
   "cell_type": "code",
   "execution_count": 5,
   "metadata": {},
   "outputs": [
    {
     "name": "stdout",
     "output_type": "stream",
     "text": [
      "Pleae enter corret data\n",
      "Pleae enter corret data\n",
      "Your age is 45\n"
     ]
    }
   ],
   "source": [
    "age = input('Enter your age: ')\n",
    "\n",
    "\n",
    "while not age.isnumeric():  # (0-9)\n",
    "    print('Pleae enter corret data')\n",
    "    age = input('Enter your age: ')\n",
    "\n",
    "print(f'Your age is {age}')\n",
    "    "
   ]
  },
  {
   "cell_type": "code",
   "execution_count": 6,
   "metadata": {},
   "outputs": [
    {
     "name": "stdout",
     "output_type": "stream",
     "text": [
      "Seni dövcem nasıl beni geçersin\n",
      "Seni dövcem nasıl beni geçersin\n",
      "nasıl geçemedin asıl şimdi dövcem\n",
      "Aferinnnn\n"
     ]
    }
   ],
   "source": [
    "my_number = 15\n",
    "# is_true = True\n",
    "while True:  # while is_true:\n",
    "    your_number = int(input('Enter your number: '))\n",
    "    \n",
    "    if your_number > my_number:\n",
    "        print('Seni dövcem nasıl beni geçersin')\n",
    "    elif your_number < my_number:\n",
    "        print('nasıl geçemedin asıl şimdi dövcem')\n",
    "    else:\n",
    "        print('Aferinnnn')\n",
    "        break\n",
    "    "
   ]
  },
  {
   "cell_type": "code",
   "execution_count": 13,
   "metadata": {},
   "outputs": [
    {
     "name": "stdout",
     "output_type": "stream",
     "text": [
      "istanbul 8\n",
      "8\n",
      "ankara 6\n",
      "muşşşşşşşşşşşşşş 16\n",
      "16\n",
      "16\n"
     ]
    }
   ],
   "source": [
    "a = 'istanbul, ankara, muşşşşşşşşşşşşşş'\n",
    "word_list = a.split(', ')\n",
    "\n",
    "i = 0\n",
    "longest = 0\n",
    "\n",
    "while i < len(word_list):\n",
    "    print(word_list[i] , len(word_list[i]))\n",
    "    if len(word_list[i]) > longest:\n",
    "        longest = len(word_list[i])\n",
    "        print(longest)\n",
    "    i += 1\n",
    "print(longest)"
   ]
  },
  {
   "cell_type": "code",
   "execution_count": 16,
   "metadata": {},
   "outputs": [
    {
     "name": "stdout",
     "output_type": "stream",
     "text": [
      "[3]\n",
      "[3, 4]\n",
      "[3, 4, 5]\n",
      "[3, 4, 5, 6]\n",
      "[3, 4, 5, 6, 7]\n",
      "[3, 4, 5, 6, 7]\n"
     ]
    }
   ],
   "source": [
    "num_list = []\n",
    "\n",
    "for i in range(3, 8): # 1-5 / 3-7\n",
    "    num_list.append(i)\n",
    "    print(num_list)\n",
    "\n",
    "print(num_list)"
   ]
  },
  {
   "cell_type": "code",
   "execution_count": 32,
   "metadata": {},
   "outputs": [
    {
     "name": "stdout",
     "output_type": "stream",
     "text": [
      "c-l-a-r-u-s-w-a-y\n"
     ]
    }
   ],
   "source": [
    "input = 'clarusway'  # range(8)\n",
    "\n",
    "word = ''\n",
    "\n",
    "for i in range(len(input)): \n",
    "    if i == 0:\n",
    "        word += input[i]\n",
    "    else:\n",
    "        word += '-' + input[i]\n",
    "print(word)\n"
   ]
  },
  {
   "cell_type": "code",
   "execution_count": 36,
   "metadata": {},
   "outputs": [
    {
     "name": "stdout",
     "output_type": "stream",
     "text": [
      "Henry\tFrstr\t38\t"
     ]
    }
   ],
   "source": [
    "user = {\n",
    "    'name': 'Henry',\n",
    "    'surname': 'Frstr',\n",
    "    'age': 38\n",
    "}\n",
    "\n",
    "for i in user.values():\n",
    "    print(i, end='\\t')"
   ]
  },
  {
   "cell_type": "code",
   "execution_count": 37,
   "metadata": {},
   "outputs": [
    {
     "name": "stdout",
     "output_type": "stream",
     "text": [
      "3 x 0 = 0\n",
      "3 x 1 = 3\n",
      "3 x 2 = 6\n",
      "3 x 3 = 9\n",
      "3 x 4 = 12\n",
      "3 x 5 = 15\n",
      "3 x 6 = 18\n",
      "3 x 7 = 21\n",
      "3 x 8 = 24\n",
      "3 x 9 = 27\n",
      "3 x 10 = 30\n"
     ]
    }
   ],
   "source": [
    "input = 3\n",
    "\n",
    "for i in range(11):\n",
    "    print(f'{input} x {i} = {input * i}')"
   ]
  },
  {
   "cell_type": "code",
   "execution_count": 40,
   "metadata": {},
   "outputs": [
    {
     "name": "stdout",
     "output_type": "stream",
     "text": [
      "[5, 10, 15, 20, 25]\n"
     ]
    }
   ],
   "source": [
    "a_list = list(range(5,26,5))\n",
    "print(a_list)"
   ]
  },
  {
   "cell_type": "code",
   "execution_count": 44,
   "metadata": {},
   "outputs": [
    {
     "name": "stdout",
     "output_type": "stream",
     "text": [
      "{1: 'bir', 2: 'iki', 3: 'üç'}\n"
     ]
    }
   ],
   "source": [
    "a = ['bir', 'iki', 'üç']\n",
    "b = [1, 2, 3]\n",
    "c = dict(zip(b, a))\n",
    "print(c)"
   ]
  },
  {
   "cell_type": "code",
   "execution_count": null,
   "metadata": {},
   "outputs": [],
   "source": [
    "evens = [i for i in range(12) if i % 2 == 0]"
   ]
  }
 ],
 "metadata": {
  "kernelspec": {
   "display_name": "Python 3.7.8rc1 64-bit",
   "language": "python",
   "name": "python3"
  },
  "language_info": {
   "codemirror_mode": {
    "name": "ipython",
    "version": 3
   },
   "file_extension": ".py",
   "mimetype": "text/x-python",
   "name": "python",
   "nbconvert_exporter": "python",
   "pygments_lexer": "ipython3",
   "version": "3.7.8rc1"
  },
  "orig_nbformat": 4,
  "vscode": {
   "interpreter": {
    "hash": "aee8b7b246df8f9039afb4144a1f6fd8d2ca17a180786b69acc140d282b71a49"
   }
  }
 },
 "nbformat": 4,
 "nbformat_minor": 2
}
