{
 "cells": [
  {
   "cell_type": "code",
   "execution_count": 15,
   "metadata": {},
   "outputs": [
    {
     "name": "stdout",
     "output_type": "stream",
     "text": [
      "is a kind of Dolphin.\n",
      "\n",
      "Blue Whale is the la\n"
     ]
    }
   ],
   "source": [
    "sea = open('fishes.txt', 'r')\n",
    "sea.seek(5)\n",
    "print(sea.read(21))\n",
    "print(sea.read(21))\n",
    "\n",
    "sea.close()"
   ]
  },
  {
   "cell_type": "code",
   "execution_count": 18,
   "metadata": {},
   "outputs": [
    {
     "name": "stdout",
     "output_type": "stream",
     "text": [
      "I want to sing\n",
      "Like the birds sing,\n",
      "\n",
      "Not worrying\n"
     ]
    }
   ],
   "source": [
    "rumi = open('rumi.txt')\n",
    "\n",
    "print(rumi.read(35))\n",
    "print(rumi.read(13))\n",
    "\n",
    "rumi.close()"
   ]
  },
  {
   "cell_type": "code",
   "execution_count": 22,
   "metadata": {},
   "outputs": [
    {
     "name": "stdout",
     "output_type": "stream",
     "text": [
      "Orca is a kind of Dolphin.\n",
      "\n",
      "['Blue Whale is the largest animal known on earth.\\n', 'Sharks are the sister group to the Rays (batoids).\\n', 'The Tuna Fish can weigh up to 260 kg.\\n', 'Squid and Octopus are in the same class.\\n']\n"
     ]
    }
   ],
   "source": [
    "sea = open('fishes.txt', 'r')\n",
    "\n",
    "print(sea.readline())\n",
    "print(sea.readlines())\n",
    "\n",
    "\n",
    "sea.close()"
   ]
  },
  {
   "cell_type": "code",
   "execution_count": 25,
   "metadata": {},
   "outputs": [
    {
     "name": "stdout",
     "output_type": "stream",
     "text": [
      "Orca is a kind of Dolphin.\n",
      "\n",
      "Blue Whale is the largest animal known on earth.\n",
      "\n",
      "Sharks are the sister group to the Rays (batoids).\n",
      "\n",
      "The Tuna Fish can weigh up to 260 kg.\n",
      "\n",
      "Squid and Octopus are in the same class.\n",
      "\n"
     ]
    }
   ],
   "source": [
    "sea = open('fishes.txt', 'r')\n",
    "\n",
    "for line in sea.readlines():\n",
    "    print(line)\n",
    "sea.close()"
   ]
  },
  {
   "cell_type": "code",
   "execution_count": 26,
   "metadata": {},
   "outputs": [
    {
     "name": "stdout",
     "output_type": "stream",
     "text": [
      "Orca is a kind of Dolphin.\n",
      "Blue Whale is the largest animal known on earth.\n",
      "Sharks are the sister group to the Rays (batoids).\n",
      "The Tuna Fish can weigh up to 260 kg.\n",
      "Squid and Octopus are in the same class.\n",
      "\n"
     ]
    }
   ],
   "source": [
    "with open('fishes.txt', 'r') as sea:\n",
    "    print(sea.read())"
   ]
  },
  {
   "attachments": {},
   "cell_type": "markdown",
   "metadata": {},
   "source": [
    "## WRITE"
   ]
  },
  {
   "cell_type": "code",
   "execution_count": 28,
   "metadata": {},
   "outputs": [
    {
     "name": "stdout",
     "output_type": "stream",
     "text": [
      "This is the first line\n"
     ]
    }
   ],
   "source": [
    "with open('dummy.txt', 'w') as file:\n",
    "    file.write('This is the first line')\n",
    "    \n",
    "with open('dummy.txt') as file:\n",
    "    print(file.read())\n",
    "    \n",
    "with open('dummy.txt', 'w') as file:\n",
    "    file.write('dıwofpjowrqgkerğpglğerg*ü')"
   ]
  },
  {
   "cell_type": "code",
   "execution_count": 29,
   "metadata": {},
   "outputs": [],
   "source": [
    "fruits = ['banana', 'apple', 'orange']\n",
    "\n",
    "with open('fruit.txt', 'w') as file:\n",
    "    for fruit in fruits:\n",
    "        file.write(fruit + '\\n')\n"
   ]
  },
  {
   "cell_type": "code",
   "execution_count": 31,
   "metadata": {},
   "outputs": [],
   "source": [
    "fruits = ['banana\\n', 'apple\\n', 'orange\\n']\n",
    "\n",
    "with open('fruit2.txt', 'w') as file:\n",
    "    file.writelines(fruits)"
   ]
  },
  {
   "cell_type": "code",
   "execution_count": 32,
   "metadata": {},
   "outputs": [],
   "source": [
    "with open('fruit2.txt', 'a') as file:\n",
    "    file.write('melon')"
   ]
  },
  {
   "cell_type": "code",
   "execution_count": 42,
   "metadata": {},
   "outputs": [
    {
     "name": "stdout",
     "output_type": "stream",
     "text": [
      "This works every time\n",
      "This works every time\n",
      "This works every time\n",
      "This works every time\n",
      "This works every time\n",
      "This works every time\n",
      "This works every time\n",
      "This works every time\n",
      "This works every time\n",
      "[250.0, 125.0, 83.33333333333333, 50.0, 31.25, 27.77777777777778, 12.5]\n"
     ]
    }
   ],
   "source": [
    "from datetime import datetime\n",
    "\n",
    "num_1 = 250\n",
    "num_2 = [1, 2, 3, 5, 0, 8, 9, 'a', 20]\n",
    "res_list = []\n",
    "\n",
    "for num in num_2:\n",
    "    try:\n",
    "        res_num= num_1 / num\n",
    "    except Exception as e:\n",
    "        with open('error.log', 'a') as file:\n",
    "            file.write(f'You have error {e} ---> {num}at {datetime.now()}\\n ')       \n",
    "    else:\n",
    "        res_list.append(res_num)\n",
    "    finally:\n",
    "        print('This works every time')\n",
    "\n",
    "print(res_list)"
   ]
  }
 ],
 "metadata": {
  "kernelspec": {
   "display_name": "Python 3",
   "language": "python",
   "name": "python3"
  },
  "language_info": {
   "codemirror_mode": {
    "name": "ipython",
    "version": 3
   },
   "file_extension": ".py",
   "mimetype": "text/x-python",
   "name": "python",
   "nbconvert_exporter": "python",
   "pygments_lexer": "ipython3",
   "version": "3.7.8rc1 (v3.7.8rc1:5f3933d61d, Jun 17 2020, 04:59:23) \n[Clang 6.0 (clang-600.0.57)]"
  },
  "orig_nbformat": 4,
  "vscode": {
   "interpreter": {
    "hash": "aee8b7b246df8f9039afb4144a1f6fd8d2ca17a180786b69acc140d282b71a49"
   }
  }
 },
 "nbformat": 4,
 "nbformat_minor": 2
}
